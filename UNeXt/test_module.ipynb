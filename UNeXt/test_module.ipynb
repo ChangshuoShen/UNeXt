{
 "cells": [
  {
   "cell_type": "code",
   "execution_count": 1,
   "metadata": {},
   "outputs": [
    {
     "data": {
      "text/plain": [
       "[pytorch_optimizer.loss.cross_entropy.BCELoss,\n",
       " pytorch_optimizer.loss.focal.BCEFocalLoss,\n",
       " pytorch_optimizer.loss.focal.FocalLoss,\n",
       " pytorch_optimizer.loss.f1.SoftF1Loss,\n",
       " pytorch_optimizer.loss.dice.DiceLoss,\n",
       " pytorch_optimizer.loss.ldam.LDAMLoss,\n",
       " pytorch_optimizer.loss.focal.FocalCosineLoss,\n",
       " pytorch_optimizer.loss.jaccard.JaccardLoss,\n",
       " pytorch_optimizer.loss.bi_tempered.BiTemperedLogisticLoss,\n",
       " pytorch_optimizer.loss.bi_tempered.BinaryBiTemperedLogisticLoss,\n",
       " pytorch_optimizer.loss.tversky.TverskyLoss,\n",
       " pytorch_optimizer.loss.focal.FocalTverskyLoss,\n",
       " pytorch_optimizer.loss.lovasz.LovaszHingeLoss]"
      ]
     },
     "execution_count": 1,
     "metadata": {},
     "output_type": "execute_result"
    }
   ],
   "source": [
    "from pytorch_optimizer import get_supported_loss_functions\n",
    "\n",
    "get_supported_loss_functions()"
   ]
  },
  {
   "cell_type": "code",
   "execution_count": null,
   "metadata": {},
   "outputs": [],
   "source": [
    "from pytorch_optimizer.loss.lovasz import LovaszHingeLoss"
   ]
  }
 ],
 "metadata": {
  "kernelspec": {
   "display_name": "sammed3d",
   "language": "python",
   "name": "python3"
  },
  "language_info": {
   "codemirror_mode": {
    "name": "ipython",
    "version": 3
   },
   "file_extension": ".py",
   "mimetype": "text/x-python",
   "name": "python",
   "nbconvert_exporter": "python",
   "pygments_lexer": "ipython3",
   "version": "3.10.15"
  }
 },
 "nbformat": 4,
 "nbformat_minor": 2
}
